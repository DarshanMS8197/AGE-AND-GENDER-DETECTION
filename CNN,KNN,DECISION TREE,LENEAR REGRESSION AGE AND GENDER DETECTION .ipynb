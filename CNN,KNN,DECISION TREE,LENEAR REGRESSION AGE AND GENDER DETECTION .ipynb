{
  "nbformat": 4,
  "nbformat_minor": 0,
  "metadata": {
    "colab": {
      "private_outputs": true,
      "provenance": []
    },
    "kernelspec": {
      "name": "python3",
      "display_name": "Python 3"
    },
    "language_info": {
      "name": "python"
    }
  },
  "cells": [
    {
      "cell_type": "markdown",
      "source": [
        "#1)Decision Tree"
      ],
      "metadata": {
        "id": "AZXYRHwA2oKK"
      }
    },
    {
      "cell_type": "code",
      "source": [
        " from sklearn import tree\n",
        " X = [[0, 0], [1, 1]]\n",
        " Y = [0, 1]\n",
        " clf = tree.DecisionTreeClassifier()\n",
        " clf = clf.fit(X, Y)"
      ],
      "metadata": {
        "id": "4YxKafTCNd8p"
      },
      "execution_count": null,
      "outputs": []
    },
    {
      "cell_type": "code",
      "source": [
        "clf.predict([[2., 2.]])"
      ],
      "metadata": {
        "id": "DLDPdOOKQMs7"
      },
      "execution_count": null,
      "outputs": []
    },
    {
      "cell_type": "code",
      "source": [
        "clf.predict_proba([[2., 2.]])"
      ],
      "metadata": {
        "id": "qfeIndR7QfSZ"
      },
      "execution_count": null,
      "outputs": []
    },
    {
      "cell_type": "code",
      "source": [
        "from sklearn.datasets import load_iris\n",
        "from sklearn import tree\n",
        "iris = load_iris()\n",
        "X, y = iris.data, iris.target\n",
        "clf = tree.DecisionTreeClassifier()\n",
        "clf = clf.fit(X, y)"
      ],
      "metadata": {
        "id": "1T8IyvTtQmWt"
      },
      "execution_count": null,
      "outputs": []
    },
    {
      "cell_type": "code",
      "source": [
        "tree.plot_tree(clf)"
      ],
      "metadata": {
        "id": "Ea4w6zH9Qx2z"
      },
      "execution_count": null,
      "outputs": []
    },
    {
      "cell_type": "markdown",
      "source": [
        "#2)KNN"
      ],
      "metadata": {
        "id": "budpj5CH0x07"
      }
    },
    {
      "cell_type": "code",
      "source": [
        "import matplotlib.pyplot as plt\n",
        "from sklearn.neighbors import KNeighborsClassifier"
      ],
      "metadata": {
        "id": "zDqhjD6LLPK7"
      },
      "execution_count": null,
      "outputs": []
    },
    {
      "cell_type": "code",
      "source": [
        "x = [4, 5, 10, 4, 3, 11, 14 , 8, 10, 12]\n",
        "y = [21, 19, 24, 17, 16, 25, 24, 22, 21, 21]\n",
        "classes = [0, 0, 1, 0, 0, 1, 1, 0, 1, 1]"
      ],
      "metadata": {
        "id": "_oABiz2KLPK8"
      },
      "execution_count": null,
      "outputs": []
    },
    {
      "cell_type": "code",
      "source": [
        "data = list(zip(x, y))\n",
        "print(data)"
      ],
      "metadata": {
        "id": "I097NitrLPK8"
      },
      "execution_count": null,
      "outputs": []
    },
    {
      "cell_type": "code",
      "source": [
        "knn = KNeighborsClassifier(n_neighbors=1)\n",
        "knn.fit(data, classes)"
      ],
      "metadata": {
        "id": "TgOtyh4ELPK9"
      },
      "execution_count": null,
      "outputs": []
    },
    {
      "cell_type": "code",
      "source": [
        "new_x = 8\n",
        "new_y = 21\n",
        "new_point = [(new_x, new_y)]\n",
        "prediction = knn.predict(new_point)\n",
        "print(prediction)"
      ],
      "metadata": {
        "id": "jWldt6WrLPK9"
      },
      "execution_count": null,
      "outputs": []
    },
    {
      "cell_type": "code",
      "source": [
        "plt.scatter(x + [new_x], y + [new_y], c=classes + [prediction[0]])\n",
        "plt.text(x=new_x-1.7, y=new_y-0.7, s=f\"new point, class: {prediction[0]}\")\n",
        "plt.show()"
      ],
      "metadata": {
        "id": "mScKI_lxLPK-"
      },
      "execution_count": null,
      "outputs": []
    },
    {
      "cell_type": "code",
      "source": [
        "knn = KNeighborsClassifier(n_neighbors=5)\n",
        "knn.fit(data, classes)\n",
        "prediction = knn.predict(new_point)\n",
        "print(prediction)"
      ],
      "metadata": {
        "id": "iBadnXRxLPK-"
      },
      "execution_count": null,
      "outputs": []
    },
    {
      "cell_type": "code",
      "source": [
        "plt.scatter(x + [new_x], y + [new_y], c=classes + [prediction[0]])\n",
        "plt.text(x=new_x-1.7, y=new_y-0.7, s=f\"new point, class: {prediction[0]}\")\n",
        "plt.show()"
      ],
      "metadata": {
        "id": "ikbx3RqhLPK-"
      },
      "execution_count": null,
      "outputs": []
    },
    {
      "cell_type": "markdown",
      "source": [
        "#3)Logistic Regression"
      ],
      "metadata": {
        "id": "jQBzFEsh3bcj"
      }
    },
    {
      "cell_type": "code",
      "source": [
        "pip install numpy pandas matplotlib seaborn scikit-learn"
      ],
      "metadata": {
        "id": "14RpQlOnawsr"
      },
      "execution_count": null,
      "outputs": []
    },
    {
      "cell_type": "code",
      "source": [
        "import pandas as pd\n",
        "\n",
        "data = {\n",
        "    'age': [35, 45, 40, 28, 38, 43, 44, 42, 42],\n",
        "    'Salary': [50000, 100000, 100000, 50000, 1250000, 55000, 55000, 70000, 76000],\n",
        "    'Insured': [1, 0, 0, 0, 1, 1, 1, 0, 0]\n",
        "}\n",
        "\n",
        "df = pd.DataFrame(data)\n",
        "df['Insured'] = df['Insured'].astype(int)\n",
        "\n",
        "from sklearn.model_selection import train_test_split\n",
        "\n",
        "X = df[['age', 'Salary']]\n",
        "y = df['Insured']\n",
        "\n",
        "X_train, X_test, y_train, y_test = train_test_split(X, y, test_size=0.2, random_state=42)\n",
        "\n",
        "from sklearn.linear_model import LogisticRegression\n",
        "\n",
        "model = LogisticRegression()\n",
        "model.fit(X_train, y_train)\n",
        "\n",
        "new_data = [[40, 50000]]\n",
        "prediction = model.predict(new_data)\n",
        "print(f\"Prediction: {prediction[0]}\")\n",
        "\n",
        "from sklearn.metrics import accuracy_score\n",
        "\n",
        "y_pred = model.predict(X_test)\n",
        "accuracy = accuracy_score(y_test, y_pred)\n",
        "print(f\"Model Accuracy: {accuracy}\")\n",
        "import numpy as np\n",
        "import matplotlib.pyplot as plt\n",
        "import seaborn as sns\n",
        "from sklearn.linear_model import LogisticRegression\n",
        "\n",
        "\n",
        "x_test = np.linspace(df['Salary'].min(), df['Salary'].max(), 100)\n",
        "\n",
        "\n",
        "y_test = x_test[:, np.newaxis] * model.coef_[0] + model.intercept_\n",
        "\n",
        "\n",
        "sigmoid = 1 / (1 + np.exp(-y_test))\n",
        "\n",
        "plt.figure(figsize=(10, 6))\n",
        "sns.scatterplot(x='Salary', y='Insured', hue='Insured', data=df, palette=['blue', 'red'], legend=False)\n",
        "plt.xlabel('Salary')\n",
        "plt.ylabel('Insured')\n",
        "\n",
        "\n",
        "plt.plot(x_test, sigmoid, color='green', label='Logistic Regression Curve')\n",
        "plt.axvline(x=50000, color='orange', linestyle='--', label='Salary = 50000')\n",
        "plt.axhline(y=0.5, color='purple', linestyle='--', label='Threshold')\n",
        "plt.legend()\n",
        "plt.title('Logistic Regression Model for Insurance Prediction')\n",
        "plt.show()"
      ],
      "metadata": {
        "id": "EIfvfdGUae05"
      },
      "execution_count": null,
      "outputs": []
    },
    {
      "cell_type": "markdown",
      "source": [
        "#4)CNN"
      ],
      "metadata": {
        "id": "431TH9n-4ccK"
      }
    },
    {
      "cell_type": "code",
      "source": [
        "import tensorflow as tf\n",
        "from tensorflow.keras.layers import Dense, Flatten, Conv2D, MaxPooling2D\n",
        "from tensorflow.keras.models import Sequential\n",
        "\n",
        "# Load your data here\n",
        "(x_train, y_train), (x_test, y_test) = tf.keras.datasets.mnist.load_data()\n",
        "\n",
        "# Preprocess your data\n",
        "x_train = x_train.reshape(x_train.shape[0], 28, 28, 1).astype('float32') / 255\n",
        "x_test = x_test.reshape(x_test.shape[0], 28, 28, 1).astype('float32') / 255\n",
        "\n",
        "model = Sequential()\n",
        "\n",
        "# Add convolutional layers\n",
        "model.add(Conv2D(32, kernel_size=(3, 3), activation='relu', input_shape=(28, 28, 1)))\n",
        "model.add(MaxPooling2D(pool_size=(2, 2)))\n",
        "\n",
        "model.add(Conv2D(64, kernel_size=(3, 3), activation='relu'))\n",
        "model.add(MaxPooling2D(pool_size=(2, 2)))\n",
        "\n",
        "# Add dense layers\n",
        "model.add(Flatten())\n",
        "model.add(Dense(128, activation='relu'))\n",
        "\n",
        "# Add output layer\n",
        "model.add(Dense(10, activation='softmax'))\n",
        "\n",
        "model.compile(optimizer='adam', loss='sparse_categorical_crossentropy', metrics=['accuracy'])\n",
        "model.fit(x_train, y_train, epochs=2)\n",
        "\n",
        "loss, accuracy = model.evaluate(x_test, y_test)\n",
        "print(f'Loss: {loss}, Accuracy: {accuracy}')"
      ],
      "metadata": {
        "id": "_R3phDO54dWy"
      },
      "execution_count": null,
      "outputs": []
    },
    {
      "cell_type": "markdown",
      "source": [
        "#PROJECT ON AGE AND GENDER DETECTION"
      ],
      "metadata": {
        "id": "6lmKjwRTZoPJ"
      }
    },
    {
      "cell_type": "code",
      "source": [
        "import cv2\n",
        "import matplotlib.pyplot as plt\n",
        "\n",
        "image = cv2.imread('/content/jai.png')\n",
        "image = cv2.resize(image, (720, 640))\n",
        "\n",
        "face1 = \"/content/opencv_face_detector.pbtxt\"\n",
        "face2 = \"/content/opencv_face_detector_uint8.pb\"\n",
        "age1 = \"/content/age_deploy.prototxt\"\n",
        "age2 = \"/content/age_net.caffemodel\"\n",
        "gen1 = \"/content/gender_deploy.prototxt\"\n",
        "gen2 = \"/content/gender_net.caffemodel\"\n",
        "MODEL_MEAN_VALUES = (78.4263377603, 87.7689143744, 114.895847746)\n",
        "\n",
        "\n",
        "face = cv2.dnn.readNet(face2, face1)\n",
        "\n",
        "\n",
        "age = cv2.dnn.readNet(age2, age1)\n",
        "\n",
        "\n",
        "gen = cv2.dnn.readNet(gen2, gen1)\n",
        "\n",
        "la = ['(0-2)', '(4-6)', '(8-12)', '(15-20)',\n",
        "      '(25-32)', '(38-43)', '(48-53)', '(60-100)']\n",
        "lg = ['Male', 'Female']\n",
        "\n",
        "fr_cv = image.copy()\n",
        "\n",
        "fr_h = fr_cv.shape[0]\n",
        "fr_w = fr_cv.shape[1]\n",
        "blob = cv2.dnn.blobFromImage(fr_cv, 1.0, (300, 300),\n",
        "                             [104, 117, 123], True, False)\n",
        "\n",
        "face.setInput(blob)\n",
        "detections = face.forward()\n",
        "\n",
        "faceBoxes = []\n",
        "for i in range(detections.shape[2]):\n",
        "\n",
        "\n",
        "    confidence = detections[0, 0, i, 2]\n",
        "    if confidence > 0.7:\n",
        "\n",
        "        x1 = int(detections[0, 0, i, 3]*fr_w)\n",
        "        y1 = int(detections[0, 0, i, 4]*fr_h)\n",
        "        x2 = int(detections[0, 0, i, 5]*fr_w)\n",
        "        y2 = int(detections[0, 0, i, 6]*fr_h)\n",
        "\n",
        "        faceBoxes.append([x1, y1, x2, y2])\n",
        "\n",
        "        cv2.rectangle(fr_cv, (x1, y1), (x2, y2),\n",
        "                      (0, 255, 0), int(round(fr_h/150)), 8)\n",
        "\n",
        "faceBoxes\n",
        "\n",
        "\n",
        "if not faceBoxes:\n",
        "    print(\"No face detected\")\n",
        "\n",
        "\n",
        "for faceBox in faceBoxes:\n",
        "\n",
        "\n",
        "    face = fr_cv[max(0, faceBox[1]-15):\n",
        "                 min(faceBox[3]+15, fr_cv.shape[0]-1),\n",
        "                 max(0, faceBox[0]-15):min(faceBox[2]+15,\n",
        "                               fr_cv.shape[1]-1)]\n",
        "\n",
        "\n",
        "    blob = cv2.dnn.blobFromImage(\n",
        "        face, 1.0, (227, 227), MODEL_MEAN_VALUES, swapRB=False)\n",
        "\n",
        "\n",
        "    gen.setInput(blob)\n",
        "    genderPreds = gen.forward()\n",
        "    gender = lg[genderPreds[0].argmax()]\n",
        "\n",
        "\n",
        "    age.setInput(blob)\n",
        "    agePreds = age.forward()\n",
        "    age = la[agePreds[0].argmax()]\n",
        "\n",
        "\n",
        "    cv2.putText(fr_cv,\n",
        "                f'{gender}, {age}',\n",
        "                (faceBox[0]-150, faceBox[1]+10),\n",
        "                cv2.FONT_HERSHEY_SIMPLEX,\n",
        "                1.3,\n",
        "                (217, 0, 0),\n",
        "                4,\n",
        "                cv2.LINE_AA)\n",
        "\n",
        "    plt.figure(figsize=(7, 7))\n",
        "    plt.imshow(fr_cv)"
      ],
      "metadata": {
        "id": "V-MGhJki4d7-"
      },
      "execution_count": null,
      "outputs": []
    },
    {
      "cell_type": "code",
      "source": [],
      "metadata": {
        "id": "7qjk0llrRacN"
      },
      "execution_count": null,
      "outputs": []
    }
  ]
}